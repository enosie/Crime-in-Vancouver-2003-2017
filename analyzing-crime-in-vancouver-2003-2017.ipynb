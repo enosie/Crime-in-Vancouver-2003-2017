{
 "cells": [
  {
   "cell_type": "markdown",
   "id": "federal-sharing",
   "metadata": {
    "papermill": {
     "duration": 0.028181,
     "end_time": "2021-04-11T20:02:36.436257",
     "exception": false,
     "start_time": "2021-04-11T20:02:36.408076",
     "status": "completed"
    },
    "tags": []
   },
   "source": [
    "**Introduction**"
   ]
  },
  {
   "cell_type": "markdown",
   "id": "sharing-recovery",
   "metadata": {
    "papermill": {
     "duration": 0.027603,
     "end_time": "2021-04-11T20:02:36.490927",
     "exception": false,
     "start_time": "2021-04-11T20:02:36.463324",
     "status": "completed"
    },
    "tags": []
   },
   "source": [
    "This data comes from the Vancouver Open Data Catalogue.\n",
    "It was extracted on 2017-07-18 and it contains 530,652 records from 2003-01-01 to 2017-07-13.\n",
    "\n",
    "My focus will be on:\n",
    "* What neighbourhoods are mentioned in this dataset\n",
    "* How many crimes were committed in these neighbourhoods\n",
    "* What year had the most crimes\n",
    "* What types of crimes were committed"
   ]
  },
  {
   "cell_type": "markdown",
   "id": "elder-company",
   "metadata": {
    "papermill": {
     "duration": 0.027789,
     "end_time": "2021-04-11T20:02:36.547115",
     "exception": false,
     "start_time": "2021-04-11T20:02:36.519326",
     "status": "completed"
    },
    "tags": []
   },
   "source": [
    "**Import libraries**"
   ]
  },
  {
   "cell_type": "code",
   "execution_count": 1,
   "id": "appreciated-banana",
   "metadata": {
    "_cell_guid": "b1076dfc-b9ad-4769-8c92-a6c4dae69d19",
    "_uuid": "8f2839f25d086af736a60e9eeb907d3b93b6e0e5",
    "execution": {
     "iopub.execute_input": "2021-04-11T20:02:36.610965Z",
     "iopub.status.busy": "2021-04-11T20:02:36.610092Z",
     "iopub.status.idle": "2021-04-11T20:02:37.605615Z",
     "shell.execute_reply": "2021-04-11T20:02:37.604747Z"
    },
    "papermill": {
     "duration": 1.03066,
     "end_time": "2021-04-11T20:02:37.605803",
     "exception": false,
     "start_time": "2021-04-11T20:02:36.575143",
     "status": "completed"
    },
    "tags": []
   },
   "outputs": [],
   "source": [
    "import numpy as np\n",
    "import pandas as pd\n",
    "import matplotlib.pyplot as plt\n",
    "import seaborn as sns\n",
    "%matplotlib inline"
   ]
  },
  {
   "cell_type": "markdown",
   "id": "metropolitan-humidity",
   "metadata": {
    "papermill": {
     "duration": 0.027022,
     "end_time": "2021-04-11T20:02:37.660327",
     "exception": false,
     "start_time": "2021-04-11T20:02:37.633305",
     "status": "completed"
    },
    "tags": []
   },
   "source": [
    "**Load dataset**"
   ]
  },
  {
   "cell_type": "code",
   "execution_count": 2,
   "id": "atmospheric-subdivision",
   "metadata": {
    "execution": {
     "iopub.execute_input": "2021-04-11T20:02:37.720520Z",
     "iopub.status.busy": "2021-04-11T20:02:37.719722Z",
     "iopub.status.idle": "2021-04-11T20:02:39.769321Z",
     "shell.execute_reply": "2021-04-11T20:02:39.768549Z"
    },
    "papermill": {
     "duration": 2.082038,
     "end_time": "2021-04-11T20:02:39.769523",
     "exception": false,
     "start_time": "2021-04-11T20:02:37.687485",
     "status": "completed"
    },
    "tags": []
   },
   "outputs": [],
   "source": [
    "crime = pd.read_csv(\"../input/crime-in-vancouver/crime.csv\")"
   ]
  },
  {
   "cell_type": "markdown",
   "id": "secret-speaking",
   "metadata": {
    "papermill": {
     "duration": 0.027185,
     "end_time": "2021-04-11T20:02:39.824718",
     "exception": false,
     "start_time": "2021-04-11T20:02:39.797533",
     "status": "completed"
    },
    "tags": []
   },
   "source": [
    "**Undertanding the data**"
   ]
  },
  {
   "cell_type": "code",
   "execution_count": 3,
   "id": "comparable-convert",
   "metadata": {
    "execution": {
     "iopub.execute_input": "2021-04-11T20:02:39.888049Z",
     "iopub.status.busy": "2021-04-11T20:02:39.887025Z",
     "iopub.status.idle": "2021-04-11T20:02:39.892200Z",
     "shell.execute_reply": "2021-04-11T20:02:39.891688Z"
    },
    "papermill": {
     "duration": 0.04027,
     "end_time": "2021-04-11T20:02:39.892355",
     "exception": false,
     "start_time": "2021-04-11T20:02:39.852085",
     "status": "completed"
    },
    "tags": []
   },
   "outputs": [
    {
     "data": {
      "text/plain": [
       "(530652, 12)"
      ]
     },
     "execution_count": 3,
     "metadata": {},
     "output_type": "execute_result"
    }
   ],
   "source": [
    "crime.shape"
   ]
  },
  {
   "cell_type": "code",
   "execution_count": 4,
   "id": "experienced-scheduling",
   "metadata": {
    "execution": {
     "iopub.execute_input": "2021-04-11T20:02:39.955311Z",
     "iopub.status.busy": "2021-04-11T20:02:39.954331Z",
     "iopub.status.idle": "2021-04-11T20:02:39.959631Z",
     "shell.execute_reply": "2021-04-11T20:02:39.958787Z"
    },
    "papermill": {
     "duration": 0.039188,
     "end_time": "2021-04-11T20:02:39.959859",
     "exception": false,
     "start_time": "2021-04-11T20:02:39.920671",
     "status": "completed"
    },
    "tags": []
   },
   "outputs": [
    {
     "name": "stdout",
     "output_type": "stream",
     "text": [
      "The Number of Rows in the Dataset are 530652 \n",
      "The Number of Columns in the Dataset are  12\n"
     ]
    }
   ],
   "source": [
    "print('The Number of Rows in the Dataset are',crime.shape[0],'\\nThe Number of Columns in the Dataset are ',crime.shape[1])"
   ]
  },
  {
   "cell_type": "code",
   "execution_count": 5,
   "id": "hybrid-emperor",
   "metadata": {
    "execution": {
     "iopub.execute_input": "2021-04-11T20:02:40.031842Z",
     "iopub.status.busy": "2021-04-11T20:02:40.030806Z",
     "iopub.status.idle": "2021-04-11T20:02:40.059053Z",
     "shell.execute_reply": "2021-04-11T20:02:40.058398Z"
    },
    "papermill": {
     "duration": 0.06907,
     "end_time": "2021-04-11T20:02:40.059216",
     "exception": false,
     "start_time": "2021-04-11T20:02:39.990146",
     "status": "completed"
    },
    "tags": []
   },
   "outputs": [
    {
     "data": {
      "text/html": [
       "<div>\n",
       "<style scoped>\n",
       "    .dataframe tbody tr th:only-of-type {\n",
       "        vertical-align: middle;\n",
       "    }\n",
       "\n",
       "    .dataframe tbody tr th {\n",
       "        vertical-align: top;\n",
       "    }\n",
       "\n",
       "    .dataframe thead th {\n",
       "        text-align: right;\n",
       "    }\n",
       "</style>\n",
       "<table border=\"1\" class=\"dataframe\">\n",
       "  <thead>\n",
       "    <tr style=\"text-align: right;\">\n",
       "      <th></th>\n",
       "      <th>TYPE</th>\n",
       "      <th>YEAR</th>\n",
       "      <th>MONTH</th>\n",
       "      <th>DAY</th>\n",
       "      <th>HOUR</th>\n",
       "      <th>MINUTE</th>\n",
       "      <th>HUNDRED_BLOCK</th>\n",
       "      <th>NEIGHBOURHOOD</th>\n",
       "      <th>X</th>\n",
       "      <th>Y</th>\n",
       "      <th>Latitude</th>\n",
       "      <th>Longitude</th>\n",
       "    </tr>\n",
       "  </thead>\n",
       "  <tbody>\n",
       "    <tr>\n",
       "      <th>0</th>\n",
       "      <td>Other Theft</td>\n",
       "      <td>2003</td>\n",
       "      <td>5</td>\n",
       "      <td>12</td>\n",
       "      <td>16.0</td>\n",
       "      <td>15.0</td>\n",
       "      <td>9XX TERMINAL AVE</td>\n",
       "      <td>Strathcona</td>\n",
       "      <td>493906.5</td>\n",
       "      <td>5457452.47</td>\n",
       "      <td>49.269802</td>\n",
       "      <td>-123.083763</td>\n",
       "    </tr>\n",
       "    <tr>\n",
       "      <th>1</th>\n",
       "      <td>Other Theft</td>\n",
       "      <td>2003</td>\n",
       "      <td>5</td>\n",
       "      <td>7</td>\n",
       "      <td>15.0</td>\n",
       "      <td>20.0</td>\n",
       "      <td>9XX TERMINAL AVE</td>\n",
       "      <td>Strathcona</td>\n",
       "      <td>493906.5</td>\n",
       "      <td>5457452.47</td>\n",
       "      <td>49.269802</td>\n",
       "      <td>-123.083763</td>\n",
       "    </tr>\n",
       "    <tr>\n",
       "      <th>2</th>\n",
       "      <td>Other Theft</td>\n",
       "      <td>2003</td>\n",
       "      <td>4</td>\n",
       "      <td>23</td>\n",
       "      <td>16.0</td>\n",
       "      <td>40.0</td>\n",
       "      <td>9XX TERMINAL AVE</td>\n",
       "      <td>Strathcona</td>\n",
       "      <td>493906.5</td>\n",
       "      <td>5457452.47</td>\n",
       "      <td>49.269802</td>\n",
       "      <td>-123.083763</td>\n",
       "    </tr>\n",
       "    <tr>\n",
       "      <th>3</th>\n",
       "      <td>Other Theft</td>\n",
       "      <td>2003</td>\n",
       "      <td>4</td>\n",
       "      <td>20</td>\n",
       "      <td>11.0</td>\n",
       "      <td>15.0</td>\n",
       "      <td>9XX TERMINAL AVE</td>\n",
       "      <td>Strathcona</td>\n",
       "      <td>493906.5</td>\n",
       "      <td>5457452.47</td>\n",
       "      <td>49.269802</td>\n",
       "      <td>-123.083763</td>\n",
       "    </tr>\n",
       "    <tr>\n",
       "      <th>4</th>\n",
       "      <td>Other Theft</td>\n",
       "      <td>2003</td>\n",
       "      <td>4</td>\n",
       "      <td>12</td>\n",
       "      <td>17.0</td>\n",
       "      <td>45.0</td>\n",
       "      <td>9XX TERMINAL AVE</td>\n",
       "      <td>Strathcona</td>\n",
       "      <td>493906.5</td>\n",
       "      <td>5457452.47</td>\n",
       "      <td>49.269802</td>\n",
       "      <td>-123.083763</td>\n",
       "    </tr>\n",
       "  </tbody>\n",
       "</table>\n",
       "</div>"
      ],
      "text/plain": [
       "          TYPE  YEAR  MONTH  DAY  HOUR  MINUTE     HUNDRED_BLOCK  \\\n",
       "0  Other Theft  2003      5   12  16.0    15.0  9XX TERMINAL AVE   \n",
       "1  Other Theft  2003      5    7  15.0    20.0  9XX TERMINAL AVE   \n",
       "2  Other Theft  2003      4   23  16.0    40.0  9XX TERMINAL AVE   \n",
       "3  Other Theft  2003      4   20  11.0    15.0  9XX TERMINAL AVE   \n",
       "4  Other Theft  2003      4   12  17.0    45.0  9XX TERMINAL AVE   \n",
       "\n",
       "  NEIGHBOURHOOD         X           Y   Latitude   Longitude  \n",
       "0    Strathcona  493906.5  5457452.47  49.269802 -123.083763  \n",
       "1    Strathcona  493906.5  5457452.47  49.269802 -123.083763  \n",
       "2    Strathcona  493906.5  5457452.47  49.269802 -123.083763  \n",
       "3    Strathcona  493906.5  5457452.47  49.269802 -123.083763  \n",
       "4    Strathcona  493906.5  5457452.47  49.269802 -123.083763  "
      ]
     },
     "execution_count": 5,
     "metadata": {},
     "output_type": "execute_result"
    }
   ],
   "source": [
    "crime.head()"
   ]
  },
  {
   "cell_type": "code",
   "execution_count": 6,
   "id": "equal-escape",
   "metadata": {
    "execution": {
     "iopub.execute_input": "2021-04-11T20:02:40.139195Z",
     "iopub.status.busy": "2021-04-11T20:02:40.138121Z",
     "iopub.status.idle": "2021-04-11T20:02:40.143645Z",
     "shell.execute_reply": "2021-04-11T20:02:40.142982Z"
    },
    "papermill": {
     "duration": 0.054474,
     "end_time": "2021-04-11T20:02:40.143809",
     "exception": false,
     "start_time": "2021-04-11T20:02:40.089335",
     "status": "completed"
    },
    "tags": []
   },
   "outputs": [
    {
     "data": {
      "text/html": [
       "<div>\n",
       "<style scoped>\n",
       "    .dataframe tbody tr th:only-of-type {\n",
       "        vertical-align: middle;\n",
       "    }\n",
       "\n",
       "    .dataframe tbody tr th {\n",
       "        vertical-align: top;\n",
       "    }\n",
       "\n",
       "    .dataframe thead th {\n",
       "        text-align: right;\n",
       "    }\n",
       "</style>\n",
       "<table border=\"1\" class=\"dataframe\">\n",
       "  <thead>\n",
       "    <tr style=\"text-align: right;\">\n",
       "      <th></th>\n",
       "      <th>TYPE</th>\n",
       "      <th>YEAR</th>\n",
       "      <th>MONTH</th>\n",
       "      <th>DAY</th>\n",
       "      <th>HOUR</th>\n",
       "      <th>MINUTE</th>\n",
       "      <th>HUNDRED_BLOCK</th>\n",
       "      <th>NEIGHBOURHOOD</th>\n",
       "      <th>X</th>\n",
       "      <th>Y</th>\n",
       "      <th>Latitude</th>\n",
       "      <th>Longitude</th>\n",
       "    </tr>\n",
       "  </thead>\n",
       "  <tbody>\n",
       "    <tr>\n",
       "      <th>530647</th>\n",
       "      <td>Break and Enter Residential/Other</td>\n",
       "      <td>2017</td>\n",
       "      <td>3</td>\n",
       "      <td>3</td>\n",
       "      <td>9.0</td>\n",
       "      <td>16.0</td>\n",
       "      <td>31XX ADANAC ST</td>\n",
       "      <td>Hastings-Sunrise</td>\n",
       "      <td>497265.49</td>\n",
       "      <td>5458296.71</td>\n",
       "      <td>49.277420</td>\n",
       "      <td>-123.037595</td>\n",
       "    </tr>\n",
       "    <tr>\n",
       "      <th>530648</th>\n",
       "      <td>Mischief</td>\n",
       "      <td>2017</td>\n",
       "      <td>5</td>\n",
       "      <td>29</td>\n",
       "      <td>22.0</td>\n",
       "      <td>30.0</td>\n",
       "      <td>14XX E 7TH AVE</td>\n",
       "      <td>Grandview-Woodland</td>\n",
       "      <td>494533.97</td>\n",
       "      <td>5456824.97</td>\n",
       "      <td>49.264163</td>\n",
       "      <td>-123.075129</td>\n",
       "    </tr>\n",
       "    <tr>\n",
       "      <th>530649</th>\n",
       "      <td>Offence Against a Person</td>\n",
       "      <td>2017</td>\n",
       "      <td>4</td>\n",
       "      <td>13</td>\n",
       "      <td>NaN</td>\n",
       "      <td>NaN</td>\n",
       "      <td>OFFSET TO PROTECT PRIVACY</td>\n",
       "      <td>NaN</td>\n",
       "      <td>0.00</td>\n",
       "      <td>0.00</td>\n",
       "      <td>0.000000</td>\n",
       "      <td>0.000000</td>\n",
       "    </tr>\n",
       "    <tr>\n",
       "      <th>530650</th>\n",
       "      <td>Theft from Vehicle</td>\n",
       "      <td>2017</td>\n",
       "      <td>6</td>\n",
       "      <td>5</td>\n",
       "      <td>17.0</td>\n",
       "      <td>0.0</td>\n",
       "      <td>8XX HAMILTON ST</td>\n",
       "      <td>Central Business District</td>\n",
       "      <td>491487.85</td>\n",
       "      <td>5458385.78</td>\n",
       "      <td>49.278168</td>\n",
       "      <td>-123.117031</td>\n",
       "    </tr>\n",
       "    <tr>\n",
       "      <th>530651</th>\n",
       "      <td>Vehicle Collision or Pedestrian Struck (with I...</td>\n",
       "      <td>2017</td>\n",
       "      <td>6</td>\n",
       "      <td>6</td>\n",
       "      <td>17.0</td>\n",
       "      <td>38.0</td>\n",
       "      <td>13XX BLOCK PARK DR</td>\n",
       "      <td>Marpole</td>\n",
       "      <td>490204.00</td>\n",
       "      <td>5451444.00</td>\n",
       "      <td>49.215706</td>\n",
       "      <td>-123.134512</td>\n",
       "    </tr>\n",
       "  </tbody>\n",
       "</table>\n",
       "</div>"
      ],
      "text/plain": [
       "                                                     TYPE  YEAR  MONTH  DAY  \\\n",
       "530647                  Break and Enter Residential/Other  2017      3    3   \n",
       "530648                                           Mischief  2017      5   29   \n",
       "530649                           Offence Against a Person  2017      4   13   \n",
       "530650                                 Theft from Vehicle  2017      6    5   \n",
       "530651  Vehicle Collision or Pedestrian Struck (with I...  2017      6    6   \n",
       "\n",
       "        HOUR  MINUTE              HUNDRED_BLOCK              NEIGHBOURHOOD  \\\n",
       "530647   9.0    16.0             31XX ADANAC ST           Hastings-Sunrise   \n",
       "530648  22.0    30.0             14XX E 7TH AVE         Grandview-Woodland   \n",
       "530649   NaN     NaN  OFFSET TO PROTECT PRIVACY                        NaN   \n",
       "530650  17.0     0.0            8XX HAMILTON ST  Central Business District   \n",
       "530651  17.0    38.0         13XX BLOCK PARK DR                    Marpole   \n",
       "\n",
       "                X           Y   Latitude   Longitude  \n",
       "530647  497265.49  5458296.71  49.277420 -123.037595  \n",
       "530648  494533.97  5456824.97  49.264163 -123.075129  \n",
       "530649       0.00        0.00   0.000000    0.000000  \n",
       "530650  491487.85  5458385.78  49.278168 -123.117031  \n",
       "530651  490204.00  5451444.00  49.215706 -123.134512  "
      ]
     },
     "execution_count": 6,
     "metadata": {},
     "output_type": "execute_result"
    }
   ],
   "source": [
    "crime.tail()"
   ]
  },
  {
   "cell_type": "code",
   "execution_count": 7,
   "id": "nasty-calvin",
   "metadata": {
    "execution": {
     "iopub.execute_input": "2021-04-11T20:02:40.208923Z",
     "iopub.status.busy": "2021-04-11T20:02:40.208116Z",
     "iopub.status.idle": "2021-04-11T20:02:40.730155Z",
     "shell.execute_reply": "2021-04-11T20:02:40.729333Z"
    },
    "papermill": {
     "duration": 0.556774,
     "end_time": "2021-04-11T20:02:40.730326",
     "exception": false,
     "start_time": "2021-04-11T20:02:40.173552",
     "status": "completed"
    },
    "tags": []
   },
   "outputs": [
    {
     "data": {
      "text/plain": [
       "TYPE                 11\n",
       "YEAR                 15\n",
       "MONTH                12\n",
       "DAY                  31\n",
       "HOUR                 24\n",
       "MINUTE               60\n",
       "HUNDRED_BLOCK     21204\n",
       "NEIGHBOURHOOD        24\n",
       "X                 95502\n",
       "Y                 93544\n",
       "Latitude         101885\n",
       "Longitude         98972\n",
       "dtype: int64"
      ]
     },
     "execution_count": 7,
     "metadata": {},
     "output_type": "execute_result"
    }
   ],
   "source": [
    "crime.nunique()"
   ]
  },
  {
   "cell_type": "markdown",
   "id": "spiritual-guinea",
   "metadata": {
    "papermill": {
     "duration": 0.029421,
     "end_time": "2021-04-11T20:02:40.790024",
     "exception": false,
     "start_time": "2021-04-11T20:02:40.760603",
     "status": "completed"
    },
    "tags": []
   },
   "source": [
    "This tells us a few things:\n",
    "* There are 11 distinct types of crimes in this dataset\n",
    "* 24 noted neighbourhoods\n",
    "* The count for days and year is valid"
   ]
  },
  {
   "cell_type": "markdown",
   "id": "objective-boulder",
   "metadata": {
    "papermill": {
     "duration": 0.029532,
     "end_time": "2021-04-11T20:02:40.849757",
     "exception": false,
     "start_time": "2021-04-11T20:02:40.820225",
     "status": "completed"
    },
    "tags": []
   },
   "source": [
    "**Checking for missing data**"
   ]
  },
  {
   "cell_type": "code",
   "execution_count": 8,
   "id": "polyphonic-banana",
   "metadata": {
    "execution": {
     "iopub.execute_input": "2021-04-11T20:02:40.917282Z",
     "iopub.status.busy": "2021-04-11T20:02:40.915908Z",
     "iopub.status.idle": "2021-04-11T20:02:41.087835Z",
     "shell.execute_reply": "2021-04-11T20:02:41.087044Z"
    },
    "papermill": {
     "duration": 0.208137,
     "end_time": "2021-04-11T20:02:41.088051",
     "exception": false,
     "start_time": "2021-04-11T20:02:40.879914",
     "status": "completed"
    },
    "tags": []
   },
   "outputs": [
    {
     "data": {
      "text/plain": [
       "TYPE                 0\n",
       "YEAR                 0\n",
       "MONTH                0\n",
       "DAY                  0\n",
       "HOUR             54362\n",
       "MINUTE           54362\n",
       "HUNDRED_BLOCK       13\n",
       "NEIGHBOURHOOD    56624\n",
       "X                    0\n",
       "Y                    0\n",
       "Latitude             0\n",
       "Longitude            0\n",
       "dtype: int64"
      ]
     },
     "execution_count": 8,
     "metadata": {},
     "output_type": "execute_result"
    }
   ],
   "source": [
    "crime.isnull().sum()"
   ]
  },
  {
   "cell_type": "markdown",
   "id": "intellectual-minister",
   "metadata": {
    "papermill": {
     "duration": 0.03142,
     "end_time": "2021-04-11T20:02:41.150381",
     "exception": false,
     "start_time": "2021-04-11T20:02:41.118961",
     "status": "completed"
    },
    "tags": []
   },
   "source": [
    "**Cleaning the data**"
   ]
  },
  {
   "cell_type": "markdown",
   "id": "russian-chicken",
   "metadata": {
    "papermill": {
     "duration": 0.030688,
     "end_time": "2021-04-11T20:02:41.211637",
     "exception": false,
     "start_time": "2021-04-11T20:02:41.180949",
     "status": "completed"
    },
    "tags": []
   },
   "source": [
    "I'll be dropping columns I won't be looking into & empty rows"
   ]
  },
  {
   "cell_type": "code",
   "execution_count": 9,
   "id": "tight-railway",
   "metadata": {
    "execution": {
     "iopub.execute_input": "2021-04-11T20:02:41.307475Z",
     "iopub.status.busy": "2021-04-11T20:02:41.279476Z",
     "iopub.status.idle": "2021-04-11T20:02:41.311193Z",
     "shell.execute_reply": "2021-04-11T20:02:41.310426Z"
    },
    "papermill": {
     "duration": 0.069295,
     "end_time": "2021-04-11T20:02:41.311370",
     "exception": false,
     "start_time": "2021-04-11T20:02:41.242075",
     "status": "completed"
    },
    "tags": []
   },
   "outputs": [],
   "source": [
    "crime.drop(['MINUTE', 'X', 'Y', 'Latitude', 'Longitude'], axis=1, inplace=True)"
   ]
  },
  {
   "cell_type": "code",
   "execution_count": 10,
   "id": "bronze-james",
   "metadata": {
    "execution": {
     "iopub.execute_input": "2021-04-11T20:02:41.376702Z",
     "iopub.status.busy": "2021-04-11T20:02:41.376055Z",
     "iopub.status.idle": "2021-04-11T20:02:41.611388Z",
     "shell.execute_reply": "2021-04-11T20:02:41.611930Z"
    },
    "papermill": {
     "duration": 0.269792,
     "end_time": "2021-04-11T20:02:41.612155",
     "exception": false,
     "start_time": "2021-04-11T20:02:41.342363",
     "status": "completed"
    },
    "tags": []
   },
   "outputs": [],
   "source": [
    "crime.dropna(inplace=True)"
   ]
  },
  {
   "cell_type": "code",
   "execution_count": 11,
   "id": "sustained-genome",
   "metadata": {
    "execution": {
     "iopub.execute_input": "2021-04-11T20:02:41.680352Z",
     "iopub.status.busy": "2021-04-11T20:02:41.679710Z",
     "iopub.status.idle": "2021-04-11T20:02:41.682643Z",
     "shell.execute_reply": "2021-04-11T20:02:41.683137Z"
    },
    "papermill": {
     "duration": 0.040056,
     "end_time": "2021-04-11T20:02:41.683325",
     "exception": false,
     "start_time": "2021-04-11T20:02:41.643269",
     "status": "completed"
    },
    "tags": []
   },
   "outputs": [
    {
     "data": {
      "text/plain": [
       "(474015, 7)"
      ]
     },
     "execution_count": 11,
     "metadata": {},
     "output_type": "execute_result"
    }
   ],
   "source": [
    "crime.shape"
   ]
  },
  {
   "cell_type": "code",
   "execution_count": 12,
   "id": "challenging-honor",
   "metadata": {
    "execution": {
     "iopub.execute_input": "2021-04-11T20:02:41.749687Z",
     "iopub.status.busy": "2021-04-11T20:02:41.748993Z",
     "iopub.status.idle": "2021-04-11T20:02:41.762641Z",
     "shell.execute_reply": "2021-04-11T20:02:41.763145Z"
    },
    "papermill": {
     "duration": 0.048963,
     "end_time": "2021-04-11T20:02:41.763370",
     "exception": false,
     "start_time": "2021-04-11T20:02:41.714407",
     "status": "completed"
    },
    "tags": []
   },
   "outputs": [
    {
     "data": {
      "text/html": [
       "<div>\n",
       "<style scoped>\n",
       "    .dataframe tbody tr th:only-of-type {\n",
       "        vertical-align: middle;\n",
       "    }\n",
       "\n",
       "    .dataframe tbody tr th {\n",
       "        vertical-align: top;\n",
       "    }\n",
       "\n",
       "    .dataframe thead th {\n",
       "        text-align: right;\n",
       "    }\n",
       "</style>\n",
       "<table border=\"1\" class=\"dataframe\">\n",
       "  <thead>\n",
       "    <tr style=\"text-align: right;\">\n",
       "      <th></th>\n",
       "      <th>TYPE</th>\n",
       "      <th>YEAR</th>\n",
       "      <th>MONTH</th>\n",
       "      <th>DAY</th>\n",
       "      <th>HOUR</th>\n",
       "      <th>HUNDRED_BLOCK</th>\n",
       "      <th>NEIGHBOURHOOD</th>\n",
       "    </tr>\n",
       "  </thead>\n",
       "  <tbody>\n",
       "    <tr>\n",
       "      <th>530646</th>\n",
       "      <td>Mischief</td>\n",
       "      <td>2017</td>\n",
       "      <td>1</td>\n",
       "      <td>18</td>\n",
       "      <td>14.0</td>\n",
       "      <td>14XX E HASTINGS ST</td>\n",
       "      <td>Grandview-Woodland</td>\n",
       "    </tr>\n",
       "    <tr>\n",
       "      <th>530647</th>\n",
       "      <td>Break and Enter Residential/Other</td>\n",
       "      <td>2017</td>\n",
       "      <td>3</td>\n",
       "      <td>3</td>\n",
       "      <td>9.0</td>\n",
       "      <td>31XX ADANAC ST</td>\n",
       "      <td>Hastings-Sunrise</td>\n",
       "    </tr>\n",
       "    <tr>\n",
       "      <th>530648</th>\n",
       "      <td>Mischief</td>\n",
       "      <td>2017</td>\n",
       "      <td>5</td>\n",
       "      <td>29</td>\n",
       "      <td>22.0</td>\n",
       "      <td>14XX E 7TH AVE</td>\n",
       "      <td>Grandview-Woodland</td>\n",
       "    </tr>\n",
       "    <tr>\n",
       "      <th>530650</th>\n",
       "      <td>Theft from Vehicle</td>\n",
       "      <td>2017</td>\n",
       "      <td>6</td>\n",
       "      <td>5</td>\n",
       "      <td>17.0</td>\n",
       "      <td>8XX HAMILTON ST</td>\n",
       "      <td>Central Business District</td>\n",
       "    </tr>\n",
       "    <tr>\n",
       "      <th>530651</th>\n",
       "      <td>Vehicle Collision or Pedestrian Struck (with I...</td>\n",
       "      <td>2017</td>\n",
       "      <td>6</td>\n",
       "      <td>6</td>\n",
       "      <td>17.0</td>\n",
       "      <td>13XX BLOCK PARK DR</td>\n",
       "      <td>Marpole</td>\n",
       "    </tr>\n",
       "  </tbody>\n",
       "</table>\n",
       "</div>"
      ],
      "text/plain": [
       "                                                     TYPE  YEAR  MONTH  DAY  \\\n",
       "530646                                           Mischief  2017      1   18   \n",
       "530647                  Break and Enter Residential/Other  2017      3    3   \n",
       "530648                                           Mischief  2017      5   29   \n",
       "530650                                 Theft from Vehicle  2017      6    5   \n",
       "530651  Vehicle Collision or Pedestrian Struck (with I...  2017      6    6   \n",
       "\n",
       "        HOUR       HUNDRED_BLOCK              NEIGHBOURHOOD  \n",
       "530646  14.0  14XX E HASTINGS ST         Grandview-Woodland  \n",
       "530647   9.0      31XX ADANAC ST           Hastings-Sunrise  \n",
       "530648  22.0      14XX E 7TH AVE         Grandview-Woodland  \n",
       "530650  17.0     8XX HAMILTON ST  Central Business District  \n",
       "530651  17.0  13XX BLOCK PARK DR                    Marpole  "
      ]
     },
     "execution_count": 12,
     "metadata": {},
     "output_type": "execute_result"
    }
   ],
   "source": [
    "crime.tail()"
   ]
  },
  {
   "cell_type": "markdown",
   "id": "classified-birth",
   "metadata": {
    "papermill": {
     "duration": 0.031348,
     "end_time": "2021-04-11T20:02:41.827142",
     "exception": false,
     "start_time": "2021-04-11T20:02:41.795794",
     "status": "completed"
    },
    "tags": []
   },
   "source": [
    "This will reset the index "
   ]
  },
  {
   "cell_type": "code",
   "execution_count": 13,
   "id": "native-karma",
   "metadata": {
    "execution": {
     "iopub.execute_input": "2021-04-11T20:02:41.894930Z",
     "iopub.status.busy": "2021-04-11T20:02:41.894244Z",
     "iopub.status.idle": "2021-04-11T20:02:41.899780Z",
     "shell.execute_reply": "2021-04-11T20:02:41.899074Z"
    },
    "papermill": {
     "duration": 0.040604,
     "end_time": "2021-04-11T20:02:41.899944",
     "exception": false,
     "start_time": "2021-04-11T20:02:41.859340",
     "status": "completed"
    },
    "tags": []
   },
   "outputs": [],
   "source": [
    "crime.reset_index(drop=True, inplace=True)"
   ]
  },
  {
   "cell_type": "code",
   "execution_count": 14,
   "id": "green-cleveland",
   "metadata": {
    "execution": {
     "iopub.execute_input": "2021-04-11T20:02:41.967763Z",
     "iopub.status.busy": "2021-04-11T20:02:41.967114Z",
     "iopub.status.idle": "2021-04-11T20:02:41.985720Z",
     "shell.execute_reply": "2021-04-11T20:02:41.985008Z"
    },
    "papermill": {
     "duration": 0.053557,
     "end_time": "2021-04-11T20:02:41.985876",
     "exception": false,
     "start_time": "2021-04-11T20:02:41.932319",
     "status": "completed"
    },
    "tags": []
   },
   "outputs": [
    {
     "data": {
      "text/html": [
       "<div>\n",
       "<style scoped>\n",
       "    .dataframe tbody tr th:only-of-type {\n",
       "        vertical-align: middle;\n",
       "    }\n",
       "\n",
       "    .dataframe tbody tr th {\n",
       "        vertical-align: top;\n",
       "    }\n",
       "\n",
       "    .dataframe thead th {\n",
       "        text-align: right;\n",
       "    }\n",
       "</style>\n",
       "<table border=\"1\" class=\"dataframe\">\n",
       "  <thead>\n",
       "    <tr style=\"text-align: right;\">\n",
       "      <th></th>\n",
       "      <th>TYPE</th>\n",
       "      <th>YEAR</th>\n",
       "      <th>MONTH</th>\n",
       "      <th>DAY</th>\n",
       "      <th>HOUR</th>\n",
       "      <th>HUNDRED_BLOCK</th>\n",
       "      <th>NEIGHBOURHOOD</th>\n",
       "    </tr>\n",
       "  </thead>\n",
       "  <tbody>\n",
       "    <tr>\n",
       "      <th>0</th>\n",
       "      <td>Other Theft</td>\n",
       "      <td>2003</td>\n",
       "      <td>5</td>\n",
       "      <td>12</td>\n",
       "      <td>16.0</td>\n",
       "      <td>9XX TERMINAL AVE</td>\n",
       "      <td>Strathcona</td>\n",
       "    </tr>\n",
       "    <tr>\n",
       "      <th>1</th>\n",
       "      <td>Other Theft</td>\n",
       "      <td>2003</td>\n",
       "      <td>5</td>\n",
       "      <td>7</td>\n",
       "      <td>15.0</td>\n",
       "      <td>9XX TERMINAL AVE</td>\n",
       "      <td>Strathcona</td>\n",
       "    </tr>\n",
       "    <tr>\n",
       "      <th>2</th>\n",
       "      <td>Other Theft</td>\n",
       "      <td>2003</td>\n",
       "      <td>4</td>\n",
       "      <td>23</td>\n",
       "      <td>16.0</td>\n",
       "      <td>9XX TERMINAL AVE</td>\n",
       "      <td>Strathcona</td>\n",
       "    </tr>\n",
       "    <tr>\n",
       "      <th>3</th>\n",
       "      <td>Other Theft</td>\n",
       "      <td>2003</td>\n",
       "      <td>4</td>\n",
       "      <td>20</td>\n",
       "      <td>11.0</td>\n",
       "      <td>9XX TERMINAL AVE</td>\n",
       "      <td>Strathcona</td>\n",
       "    </tr>\n",
       "    <tr>\n",
       "      <th>4</th>\n",
       "      <td>Other Theft</td>\n",
       "      <td>2003</td>\n",
       "      <td>4</td>\n",
       "      <td>12</td>\n",
       "      <td>17.0</td>\n",
       "      <td>9XX TERMINAL AVE</td>\n",
       "      <td>Strathcona</td>\n",
       "    </tr>\n",
       "    <tr>\n",
       "      <th>...</th>\n",
       "      <td>...</td>\n",
       "      <td>...</td>\n",
       "      <td>...</td>\n",
       "      <td>...</td>\n",
       "      <td>...</td>\n",
       "      <td>...</td>\n",
       "      <td>...</td>\n",
       "    </tr>\n",
       "    <tr>\n",
       "      <th>474010</th>\n",
       "      <td>Mischief</td>\n",
       "      <td>2017</td>\n",
       "      <td>1</td>\n",
       "      <td>18</td>\n",
       "      <td>14.0</td>\n",
       "      <td>14XX E HASTINGS ST</td>\n",
       "      <td>Grandview-Woodland</td>\n",
       "    </tr>\n",
       "    <tr>\n",
       "      <th>474011</th>\n",
       "      <td>Break and Enter Residential/Other</td>\n",
       "      <td>2017</td>\n",
       "      <td>3</td>\n",
       "      <td>3</td>\n",
       "      <td>9.0</td>\n",
       "      <td>31XX ADANAC ST</td>\n",
       "      <td>Hastings-Sunrise</td>\n",
       "    </tr>\n",
       "    <tr>\n",
       "      <th>474012</th>\n",
       "      <td>Mischief</td>\n",
       "      <td>2017</td>\n",
       "      <td>5</td>\n",
       "      <td>29</td>\n",
       "      <td>22.0</td>\n",
       "      <td>14XX E 7TH AVE</td>\n",
       "      <td>Grandview-Woodland</td>\n",
       "    </tr>\n",
       "    <tr>\n",
       "      <th>474013</th>\n",
       "      <td>Theft from Vehicle</td>\n",
       "      <td>2017</td>\n",
       "      <td>6</td>\n",
       "      <td>5</td>\n",
       "      <td>17.0</td>\n",
       "      <td>8XX HAMILTON ST</td>\n",
       "      <td>Central Business District</td>\n",
       "    </tr>\n",
       "    <tr>\n",
       "      <th>474014</th>\n",
       "      <td>Vehicle Collision or Pedestrian Struck (with I...</td>\n",
       "      <td>2017</td>\n",
       "      <td>6</td>\n",
       "      <td>6</td>\n",
       "      <td>17.0</td>\n",
       "      <td>13XX BLOCK PARK DR</td>\n",
       "      <td>Marpole</td>\n",
       "    </tr>\n",
       "  </tbody>\n",
       "</table>\n",
       "<p>474015 rows × 7 columns</p>\n",
       "</div>"
      ],
      "text/plain": [
       "                                                     TYPE  YEAR  MONTH  DAY  \\\n",
       "0                                             Other Theft  2003      5   12   \n",
       "1                                             Other Theft  2003      5    7   \n",
       "2                                             Other Theft  2003      4   23   \n",
       "3                                             Other Theft  2003      4   20   \n",
       "4                                             Other Theft  2003      4   12   \n",
       "...                                                   ...   ...    ...  ...   \n",
       "474010                                           Mischief  2017      1   18   \n",
       "474011                  Break and Enter Residential/Other  2017      3    3   \n",
       "474012                                           Mischief  2017      5   29   \n",
       "474013                                 Theft from Vehicle  2017      6    5   \n",
       "474014  Vehicle Collision or Pedestrian Struck (with I...  2017      6    6   \n",
       "\n",
       "        HOUR       HUNDRED_BLOCK              NEIGHBOURHOOD  \n",
       "0       16.0    9XX TERMINAL AVE                 Strathcona  \n",
       "1       15.0    9XX TERMINAL AVE                 Strathcona  \n",
       "2       16.0    9XX TERMINAL AVE                 Strathcona  \n",
       "3       11.0    9XX TERMINAL AVE                 Strathcona  \n",
       "4       17.0    9XX TERMINAL AVE                 Strathcona  \n",
       "...      ...                 ...                        ...  \n",
       "474010  14.0  14XX E HASTINGS ST         Grandview-Woodland  \n",
       "474011   9.0      31XX ADANAC ST           Hastings-Sunrise  \n",
       "474012  22.0      14XX E 7TH AVE         Grandview-Woodland  \n",
       "474013  17.0     8XX HAMILTON ST  Central Business District  \n",
       "474014  17.0  13XX BLOCK PARK DR                    Marpole  \n",
       "\n",
       "[474015 rows x 7 columns]"
      ]
     },
     "execution_count": 14,
     "metadata": {},
     "output_type": "execute_result"
    }
   ],
   "source": [
    "crime"
   ]
  },
  {
   "cell_type": "markdown",
   "id": "descending-ambassador",
   "metadata": {
    "papermill": {
     "duration": 0.032666,
     "end_time": "2021-04-11T20:02:42.051694",
     "exception": false,
     "start_time": "2021-04-11T20:02:42.019028",
     "status": "completed"
    },
    "tags": []
   },
   "source": [
    "All missing values have been dropped, along with columns I will not focus on."
   ]
  },
  {
   "cell_type": "markdown",
   "id": "wired-constitution",
   "metadata": {
    "papermill": {
     "duration": 0.033266,
     "end_time": "2021-04-11T20:02:42.117988",
     "exception": false,
     "start_time": "2021-04-11T20:02:42.084722",
     "status": "completed"
    },
    "tags": []
   },
   "source": [
    "**The analysis**"
   ]
  },
  {
   "cell_type": "markdown",
   "id": "novel-provincial",
   "metadata": {
    "papermill": {
     "duration": 0.032587,
     "end_time": "2021-04-11T20:02:42.184198",
     "exception": false,
     "start_time": "2021-04-11T20:02:42.151611",
     "status": "completed"
    },
    "tags": []
   },
   "source": [
    "**1. How many neighbourhoods are listed and what are they?**"
   ]
  },
  {
   "cell_type": "code",
   "execution_count": 15,
   "id": "based-allah",
   "metadata": {
    "execution": {
     "iopub.execute_input": "2021-04-11T20:02:42.301563Z",
     "iopub.status.busy": "2021-04-11T20:02:42.300823Z",
     "iopub.status.idle": "2021-04-11T20:02:42.403217Z",
     "shell.execute_reply": "2021-04-11T20:02:42.402421Z"
    },
    "papermill": {
     "duration": 0.186261,
     "end_time": "2021-04-11T20:02:42.403391",
     "exception": false,
     "start_time": "2021-04-11T20:02:42.217130",
     "status": "completed"
    },
    "tags": []
   },
   "outputs": [
    {
     "name": "stdout",
     "output_type": "stream",
     "text": [
      "There are 24 listed neighbourhoods, and they are:\n",
      "['Strathcona' 'Kerrisdale' 'Dunbar-Southlands' 'Grandview-Woodland'\n",
      " 'Sunset' 'West End' 'Central Business District' 'Hastings-Sunrise'\n",
      " 'Victoria-Fraserview' 'Fairview' 'Kensington-Cedar Cottage'\n",
      " 'West Point Grey' 'Shaughnessy' 'Renfrew-Collingwood' 'Killarney'\n",
      " 'Riley Park' 'Arbutus Ridge' 'Musqueam' 'Mount Pleasant' 'Kitsilano'\n",
      " 'Stanley Park' 'South Cambie' 'Marpole' 'Oakridge']\n"
     ]
    }
   ],
   "source": [
    "print('There are ' + str(crime.NEIGHBOURHOOD.nunique()) + ' listed neighbourhoods, and they are:')\n",
    "print(crime.NEIGHBOURHOOD.unique())"
   ]
  },
  {
   "cell_type": "markdown",
   "id": "portuguese-forty",
   "metadata": {
    "papermill": {
     "duration": 0.03347,
     "end_time": "2021-04-11T20:02:42.470861",
     "exception": false,
     "start_time": "2021-04-11T20:02:42.437391",
     "status": "completed"
    },
    "tags": []
   },
   "source": [
    "**2. How many crimes were commited in these neighbourhoods?**"
   ]
  },
  {
   "cell_type": "code",
   "execution_count": 16,
   "id": "funny-bleeding",
   "metadata": {
    "execution": {
     "iopub.execute_input": "2021-04-11T20:02:42.546379Z",
     "iopub.status.busy": "2021-04-11T20:02:42.545629Z",
     "iopub.status.idle": "2021-04-11T20:03:27.507073Z",
     "shell.execute_reply": "2021-04-11T20:03:27.506194Z"
    },
    "papermill": {
     "duration": 45.001505,
     "end_time": "2021-04-11T20:03:27.507253",
     "exception": false,
     "start_time": "2021-04-11T20:02:42.505748",
     "status": "completed"
    },
    "tags": []
   },
   "outputs": [],
   "source": [
    "nc = pd.DataFrame([crime['YEAR'], crime['NEIGHBOURHOOD'], crime['TYPE']]).T \n",
    "#nc = neighbourhood-crime"
   ]
  },
  {
   "cell_type": "code",
   "execution_count": 17,
   "id": "senior-quarter",
   "metadata": {
    "execution": {
     "iopub.execute_input": "2021-04-11T20:03:27.587310Z",
     "iopub.status.busy": "2021-04-11T20:03:27.586355Z",
     "iopub.status.idle": "2021-04-11T20:03:27.591007Z",
     "shell.execute_reply": "2021-04-11T20:03:27.590351Z"
    },
    "papermill": {
     "duration": 0.049525,
     "end_time": "2021-04-11T20:03:27.591158",
     "exception": false,
     "start_time": "2021-04-11T20:03:27.541633",
     "status": "completed"
    },
    "tags": []
   },
   "outputs": [
    {
     "data": {
      "text/html": [
       "<div>\n",
       "<style scoped>\n",
       "    .dataframe tbody tr th:only-of-type {\n",
       "        vertical-align: middle;\n",
       "    }\n",
       "\n",
       "    .dataframe tbody tr th {\n",
       "        vertical-align: top;\n",
       "    }\n",
       "\n",
       "    .dataframe thead th {\n",
       "        text-align: right;\n",
       "    }\n",
       "</style>\n",
       "<table border=\"1\" class=\"dataframe\">\n",
       "  <thead>\n",
       "    <tr style=\"text-align: right;\">\n",
       "      <th></th>\n",
       "      <th>YEAR</th>\n",
       "      <th>NEIGHBOURHOOD</th>\n",
       "      <th>TYPE</th>\n",
       "    </tr>\n",
       "  </thead>\n",
       "  <tbody>\n",
       "    <tr>\n",
       "      <th>0</th>\n",
       "      <td>2003</td>\n",
       "      <td>Strathcona</td>\n",
       "      <td>Other Theft</td>\n",
       "    </tr>\n",
       "    <tr>\n",
       "      <th>1</th>\n",
       "      <td>2003</td>\n",
       "      <td>Strathcona</td>\n",
       "      <td>Other Theft</td>\n",
       "    </tr>\n",
       "    <tr>\n",
       "      <th>2</th>\n",
       "      <td>2003</td>\n",
       "      <td>Strathcona</td>\n",
       "      <td>Other Theft</td>\n",
       "    </tr>\n",
       "    <tr>\n",
       "      <th>3</th>\n",
       "      <td>2003</td>\n",
       "      <td>Strathcona</td>\n",
       "      <td>Other Theft</td>\n",
       "    </tr>\n",
       "    <tr>\n",
       "      <th>4</th>\n",
       "      <td>2003</td>\n",
       "      <td>Strathcona</td>\n",
       "      <td>Other Theft</td>\n",
       "    </tr>\n",
       "  </tbody>\n",
       "</table>\n",
       "</div>"
      ],
      "text/plain": [
       "   YEAR NEIGHBOURHOOD         TYPE\n",
       "0  2003    Strathcona  Other Theft\n",
       "1  2003    Strathcona  Other Theft\n",
       "2  2003    Strathcona  Other Theft\n",
       "3  2003    Strathcona  Other Theft\n",
       "4  2003    Strathcona  Other Theft"
      ]
     },
     "execution_count": 17,
     "metadata": {},
     "output_type": "execute_result"
    }
   ],
   "source": [
    "nc.head()"
   ]
  },
  {
   "cell_type": "code",
   "execution_count": 18,
   "id": "bottom-topic",
   "metadata": {
    "execution": {
     "iopub.execute_input": "2021-04-11T20:03:27.667638Z",
     "iopub.status.busy": "2021-04-11T20:03:27.666541Z",
     "iopub.status.idle": "2021-04-11T20:03:27.842666Z",
     "shell.execute_reply": "2021-04-11T20:03:27.841927Z"
    },
    "papermill": {
     "duration": 0.217358,
     "end_time": "2021-04-11T20:03:27.842862",
     "exception": false,
     "start_time": "2021-04-11T20:03:27.625504",
     "status": "completed"
    },
    "tags": []
   },
   "outputs": [
    {
     "data": {
      "text/html": [
       "<div>\n",
       "<style scoped>\n",
       "    .dataframe tbody tr th:only-of-type {\n",
       "        vertical-align: middle;\n",
       "    }\n",
       "\n",
       "    .dataframe tbody tr th {\n",
       "        vertical-align: top;\n",
       "    }\n",
       "\n",
       "    .dataframe thead th {\n",
       "        text-align: right;\n",
       "    }\n",
       "</style>\n",
       "<table border=\"1\" class=\"dataframe\">\n",
       "  <thead>\n",
       "    <tr style=\"text-align: right;\">\n",
       "      <th></th>\n",
       "      <th>YEAR</th>\n",
       "      <th>NEIGHBOURHOOD</th>\n",
       "      <th>TYPE</th>\n",
       "    </tr>\n",
       "  </thead>\n",
       "  <tbody>\n",
       "    <tr>\n",
       "      <th>0</th>\n",
       "      <td>2003</td>\n",
       "      <td>Arbutus Ridge</td>\n",
       "      <td>616</td>\n",
       "    </tr>\n",
       "    <tr>\n",
       "      <th>1</th>\n",
       "      <td>2003</td>\n",
       "      <td>Central Business District</td>\n",
       "      <td>9818</td>\n",
       "    </tr>\n",
       "    <tr>\n",
       "      <th>2</th>\n",
       "      <td>2003</td>\n",
       "      <td>Dunbar-Southlands</td>\n",
       "      <td>773</td>\n",
       "    </tr>\n",
       "    <tr>\n",
       "      <th>3</th>\n",
       "      <td>2003</td>\n",
       "      <td>Fairview</td>\n",
       "      <td>3476</td>\n",
       "    </tr>\n",
       "    <tr>\n",
       "      <th>4</th>\n",
       "      <td>2003</td>\n",
       "      <td>Grandview-Woodland</td>\n",
       "      <td>3140</td>\n",
       "    </tr>\n",
       "  </tbody>\n",
       "</table>\n",
       "</div>"
      ],
      "text/plain": [
       "   YEAR              NEIGHBOURHOOD  TYPE\n",
       "0  2003              Arbutus Ridge   616\n",
       "1  2003  Central Business District  9818\n",
       "2  2003          Dunbar-Southlands   773\n",
       "3  2003                   Fairview  3476\n",
       "4  2003         Grandview-Woodland  3140"
      ]
     },
     "execution_count": 18,
     "metadata": {},
     "output_type": "execute_result"
    }
   ],
   "source": [
    "ncavg = nc.groupby(['YEAR','NEIGHBOURHOOD']).count().reset_index()\n",
    "ncavg.head()"
   ]
  },
  {
   "cell_type": "code",
   "execution_count": 19,
   "id": "polish-blocking",
   "metadata": {
    "execution": {
     "iopub.execute_input": "2021-04-11T20:03:27.924877Z",
     "iopub.status.busy": "2021-04-11T20:03:27.921828Z",
     "iopub.status.idle": "2021-04-11T20:03:27.930030Z",
     "shell.execute_reply": "2021-04-11T20:03:27.929410Z"
    },
    "papermill": {
     "duration": 0.052542,
     "end_time": "2021-04-11T20:03:27.930191",
     "exception": false,
     "start_time": "2021-04-11T20:03:27.877649",
     "status": "completed"
    },
    "tags": []
   },
   "outputs": [
    {
     "data": {
      "text/plain": [
       "Neighborhood\n",
       "Arbutus Ridge                 404.400000\n",
       "Central Business District    7396.333333\n",
       "Dunbar-Southlands             516.400000\n",
       "Fairview                     2144.066667\n",
       "Grandview-Woodland           1812.000000\n",
       "Name: Avg, dtype: float64"
      ]
     },
     "execution_count": 19,
     "metadata": {},
     "output_type": "execute_result"
    }
   ],
   "source": [
    "ncavg = ncavg.drop('YEAR', axis = 1)\n",
    "ncavg.columns = [\"Neighborhood\", \"Avg\"]\n",
    "ncavg = ncavg.groupby(['Neighborhood'])['Avg'].mean()\n",
    "ncavg.head()"
   ]
  },
  {
   "cell_type": "code",
   "execution_count": 20,
   "id": "wooden-czech",
   "metadata": {
    "execution": {
     "iopub.execute_input": "2021-04-11T20:03:28.007204Z",
     "iopub.status.busy": "2021-04-11T20:03:28.006493Z",
     "iopub.status.idle": "2021-04-11T20:03:28.368507Z",
     "shell.execute_reply": "2021-04-11T20:03:28.367676Z"
    },
    "papermill": {
     "duration": 0.402692,
     "end_time": "2021-04-11T20:03:28.368708",
     "exception": false,
     "start_time": "2021-04-11T20:03:27.966016",
     "status": "completed"
    },
    "tags": []
   },
   "outputs": [
    {
     "data": {
      "image/png": "[encoded data removed]",
      "text/plain": [
       "<Figure size 432x288 with 1 Axes>"
      ]
     },
     "metadata": {
      "needs_background": "light"
     },
     "output_type": "display_data"
    }
   ],
   "source": [
    "plotnc = ncavg.plot(kind = 'bar')"
   ]
  },
  {
   "cell_type": "markdown",
   "id": "double-afternoon",
   "metadata": {
    "papermill": {
     "duration": 0.037676,
     "end_time": "2021-04-11T20:03:28.444411",
     "exception": false,
     "start_time": "2021-04-11T20:03:28.406735",
     "status": "completed"
    },
    "tags": []
   },
   "source": [
    "This shows that Central Business District has the the highest average number of crimes with West End being second. "
   ]
  },
  {
   "cell_type": "markdown",
   "id": "listed-sampling",
   "metadata": {
    "papermill": {
     "duration": 0.037553,
     "end_time": "2021-04-11T20:03:28.518791",
     "exception": false,
     "start_time": "2021-04-11T20:03:28.481238",
     "status": "completed"
    },
    "tags": []
   },
   "source": [
    "**3. What year were most crimes committed?**"
   ]
  },
  {
   "cell_type": "code",
   "execution_count": 21,
   "id": "quiet-breath",
   "metadata": {
    "execution": {
     "iopub.execute_input": "2021-04-11T20:03:28.598622Z",
     "iopub.status.busy": "2021-04-11T20:03:28.597751Z",
     "iopub.status.idle": "2021-04-11T20:04:13.690086Z",
     "shell.execute_reply": "2021-04-11T20:04:13.690645Z"
    },
    "papermill": {
     "duration": 45.135487,
     "end_time": "2021-04-11T20:04:13.690849",
     "exception": false,
     "start_time": "2021-04-11T20:03:28.555362",
     "status": "completed"
    },
    "tags": []
   },
   "outputs": [
    {
     "data": {
      "text/html": [
       "<div>\n",
       "<style scoped>\n",
       "    .dataframe tbody tr th:only-of-type {\n",
       "        vertical-align: middle;\n",
       "    }\n",
       "\n",
       "    .dataframe tbody tr th {\n",
       "        vertical-align: top;\n",
       "    }\n",
       "\n",
       "    .dataframe thead th {\n",
       "        text-align: right;\n",
       "    }\n",
       "</style>\n",
       "<table border=\"1\" class=\"dataframe\">\n",
       "  <thead>\n",
       "    <tr style=\"text-align: right;\">\n",
       "      <th></th>\n",
       "      <th>YEAR</th>\n",
       "      <th>TYPE</th>\n",
       "    </tr>\n",
       "  </thead>\n",
       "  <tbody>\n",
       "    <tr>\n",
       "      <th>0</th>\n",
       "      <td>2003</td>\n",
       "      <td>Other Theft</td>\n",
       "    </tr>\n",
       "    <tr>\n",
       "      <th>1</th>\n",
       "      <td>2003</td>\n",
       "      <td>Other Theft</td>\n",
       "    </tr>\n",
       "    <tr>\n",
       "      <th>2</th>\n",
       "      <td>2003</td>\n",
       "      <td>Other Theft</td>\n",
       "    </tr>\n",
       "    <tr>\n",
       "      <th>3</th>\n",
       "      <td>2003</td>\n",
       "      <td>Other Theft</td>\n",
       "    </tr>\n",
       "    <tr>\n",
       "      <th>4</th>\n",
       "      <td>2003</td>\n",
       "      <td>Other Theft</td>\n",
       "    </tr>\n",
       "  </tbody>\n",
       "</table>\n",
       "</div>"
      ],
      "text/plain": [
       "   YEAR         TYPE\n",
       "0  2003  Other Theft\n",
       "1  2003  Other Theft\n",
       "2  2003  Other Theft\n",
       "3  2003  Other Theft\n",
       "4  2003  Other Theft"
      ]
     },
     "execution_count": 21,
     "metadata": {},
     "output_type": "execute_result"
    }
   ],
   "source": [
    "yc = pd.DataFrame([crime['YEAR'], crime['TYPE']]).T\n",
    "yc.head()"
   ]
  },
  {
   "cell_type": "code",
   "execution_count": 22,
   "id": "forty-voltage",
   "metadata": {
    "execution": {
     "iopub.execute_input": "2021-04-11T20:04:13.770298Z",
     "iopub.status.busy": "2021-04-11T20:04:13.769497Z",
     "iopub.status.idle": "2021-04-11T20:04:13.889795Z",
     "shell.execute_reply": "2021-04-11T20:04:13.888994Z"
    },
    "papermill": {
     "duration": 0.161223,
     "end_time": "2021-04-11T20:04:13.889992",
     "exception": false,
     "start_time": "2021-04-11T20:04:13.728769",
     "status": "completed"
    },
    "tags": []
   },
   "outputs": [
    {
     "data": {
      "text/html": [
       "<div>\n",
       "<style scoped>\n",
       "    .dataframe tbody tr th:only-of-type {\n",
       "        vertical-align: middle;\n",
       "    }\n",
       "\n",
       "    .dataframe tbody tr th {\n",
       "        vertical-align: top;\n",
       "    }\n",
       "\n",
       "    .dataframe thead th {\n",
       "        text-align: right;\n",
       "    }\n",
       "</style>\n",
       "<table border=\"1\" class=\"dataframe\">\n",
       "  <thead>\n",
       "    <tr style=\"text-align: right;\">\n",
       "      <th></th>\n",
       "      <th>Year</th>\n",
       "      <th>Total</th>\n",
       "    </tr>\n",
       "  </thead>\n",
       "  <tbody>\n",
       "    <tr>\n",
       "      <th>0</th>\n",
       "      <td>2003</td>\n",
       "      <td>45885</td>\n",
       "    </tr>\n",
       "    <tr>\n",
       "      <th>1</th>\n",
       "      <td>2004</td>\n",
       "      <td>45035</td>\n",
       "    </tr>\n",
       "    <tr>\n",
       "      <th>2</th>\n",
       "      <td>2005</td>\n",
       "      <td>40522</td>\n",
       "    </tr>\n",
       "    <tr>\n",
       "      <th>3</th>\n",
       "      <td>2006</td>\n",
       "      <td>37767</td>\n",
       "    </tr>\n",
       "    <tr>\n",
       "      <th>4</th>\n",
       "      <td>2007</td>\n",
       "      <td>33161</td>\n",
       "    </tr>\n",
       "    <tr>\n",
       "      <th>5</th>\n",
       "      <td>2008</td>\n",
       "      <td>31070</td>\n",
       "    </tr>\n",
       "    <tr>\n",
       "      <th>6</th>\n",
       "      <td>2009</td>\n",
       "      <td>28197</td>\n",
       "    </tr>\n",
       "    <tr>\n",
       "      <th>7</th>\n",
       "      <td>2010</td>\n",
       "      <td>25874</td>\n",
       "    </tr>\n",
       "    <tr>\n",
       "      <th>8</th>\n",
       "      <td>2011</td>\n",
       "      <td>24633</td>\n",
       "    </tr>\n",
       "    <tr>\n",
       "      <th>9</th>\n",
       "      <td>2012</td>\n",
       "      <td>25378</td>\n",
       "    </tr>\n",
       "    <tr>\n",
       "      <th>10</th>\n",
       "      <td>2013</td>\n",
       "      <td>25323</td>\n",
       "    </tr>\n",
       "    <tr>\n",
       "      <th>11</th>\n",
       "      <td>2014</td>\n",
       "      <td>29430</td>\n",
       "    </tr>\n",
       "    <tr>\n",
       "      <th>12</th>\n",
       "      <td>2015</td>\n",
       "      <td>31020</td>\n",
       "    </tr>\n",
       "    <tr>\n",
       "      <th>13</th>\n",
       "      <td>2016</td>\n",
       "      <td>34515</td>\n",
       "    </tr>\n",
       "    <tr>\n",
       "      <th>14</th>\n",
       "      <td>2017</td>\n",
       "      <td>16205</td>\n",
       "    </tr>\n",
       "  </tbody>\n",
       "</table>\n",
       "</div>"
      ],
      "text/plain": [
       "    Year  Total\n",
       "0   2003  45885\n",
       "1   2004  45035\n",
       "2   2005  40522\n",
       "3   2006  37767\n",
       "4   2007  33161\n",
       "5   2008  31070\n",
       "6   2009  28197\n",
       "7   2010  25874\n",
       "8   2011  24633\n",
       "9   2012  25378\n",
       "10  2013  25323\n",
       "11  2014  29430\n",
       "12  2015  31020\n",
       "13  2016  34515\n",
       "14  2017  16205"
      ]
     },
     "execution_count": 22,
     "metadata": {},
     "output_type": "execute_result"
    }
   ],
   "source": [
    "#yc = year-crime\n",
    "ycTotal = yc.groupby(['YEAR']).count().reset_index()\n",
    "ycTotal.columns = ['Year','Total']\n",
    "ycTotal"
   ]
  },
  {
   "cell_type": "code",
   "execution_count": 23,
   "id": "comfortable-alcohol",
   "metadata": {
    "execution": {
     "iopub.execute_input": "2021-04-11T20:04:14.020680Z",
     "iopub.status.busy": "2021-04-11T20:04:13.995646Z",
     "iopub.status.idle": "2021-04-11T20:04:14.169159Z",
     "shell.execute_reply": "2021-04-11T20:04:14.169670Z"
    },
    "papermill": {
     "duration": 0.240946,
     "end_time": "2021-04-11T20:04:14.169905",
     "exception": false,
     "start_time": "2021-04-11T20:04:13.928959",
     "status": "completed"
    },
    "tags": []
   },
   "outputs": [
    {
     "data": {
      "text/plain": [
       "Text(0.5, 1.0, '# of crime per year in Vancouver')"
      ]
     },
     "execution_count": 23,
     "metadata": {},
     "output_type": "execute_result"
    },
    {
     "data": {
      "image/png": "[encoded data removed]",
      "text/plain": [
       "<Figure size 432x288 with 1 Axes>"
      ]
     },
     "metadata": {
      "needs_background": "light"
     },
     "output_type": "display_data"
    }
   ],
   "source": [
    "sns.lineplot(data=ycTotal, x=\"Year\", y=\"Total\").set_title('# of crime per year in Vancouver')"
   ]
  },
  {
   "cell_type": "markdown",
   "id": "rising-winning",
   "metadata": {
    "papermill": {
     "duration": 0.039068,
     "end_time": "2021-04-11T20:04:14.249294",
     "exception": false,
     "start_time": "2021-04-11T20:04:14.210226",
     "status": "completed"
    },
    "tags": []
   },
   "source": [
    "Overall the crime in Vancouver has decreased but the graph shows a spike in crime between 2013-2016."
   ]
  },
  {
   "cell_type": "markdown",
   "id": "lasting-guide",
   "metadata": {
    "papermill": {
     "duration": 0.039436,
     "end_time": "2021-04-11T20:04:14.328322",
     "exception": false,
     "start_time": "2021-04-11T20:04:14.288886",
     "status": "completed"
    },
    "tags": []
   },
   "source": [
    "**4. What types of crime were committed?**"
   ]
  },
  {
   "cell_type": "code",
   "execution_count": 24,
   "id": "utility-entrance",
   "metadata": {
    "execution": {
     "iopub.execute_input": "2021-04-11T20:04:14.413414Z",
     "iopub.status.busy": "2021-04-11T20:04:14.412589Z",
     "iopub.status.idle": "2021-04-11T20:04:14.425906Z",
     "shell.execute_reply": "2021-04-11T20:04:14.425086Z"
    },
    "papermill": {
     "duration": 0.058465,
     "end_time": "2021-04-11T20:04:14.426080",
     "exception": false,
     "start_time": "2021-04-11T20:04:14.367615",
     "status": "completed"
    },
    "tags": []
   },
   "outputs": [
    {
     "data": {
      "text/html": [
       "<div>\n",
       "<style scoped>\n",
       "    .dataframe tbody tr th:only-of-type {\n",
       "        vertical-align: middle;\n",
       "    }\n",
       "\n",
       "    .dataframe tbody tr th {\n",
       "        vertical-align: top;\n",
       "    }\n",
       "\n",
       "    .dataframe thead th {\n",
       "        text-align: right;\n",
       "    }\n",
       "</style>\n",
       "<table border=\"1\" class=\"dataframe\">\n",
       "  <thead>\n",
       "    <tr style=\"text-align: right;\">\n",
       "      <th></th>\n",
       "      <th>TYPE</th>\n",
       "    </tr>\n",
       "  </thead>\n",
       "  <tbody>\n",
       "    <tr>\n",
       "      <th>0</th>\n",
       "      <td>Other Theft</td>\n",
       "    </tr>\n",
       "    <tr>\n",
       "      <th>1</th>\n",
       "      <td>Other Theft</td>\n",
       "    </tr>\n",
       "    <tr>\n",
       "      <th>2</th>\n",
       "      <td>Other Theft</td>\n",
       "    </tr>\n",
       "    <tr>\n",
       "      <th>3</th>\n",
       "      <td>Other Theft</td>\n",
       "    </tr>\n",
       "    <tr>\n",
       "      <th>4</th>\n",
       "      <td>Other Theft</td>\n",
       "    </tr>\n",
       "  </tbody>\n",
       "</table>\n",
       "</div>"
      ],
      "text/plain": [
       "          TYPE\n",
       "0  Other Theft\n",
       "1  Other Theft\n",
       "2  Other Theft\n",
       "3  Other Theft\n",
       "4  Other Theft"
      ]
     },
     "execution_count": 24,
     "metadata": {},
     "output_type": "execute_result"
    }
   ],
   "source": [
    "#tc = type-crime\n",
    "tc = pd.DataFrame(crime['TYPE'])\n",
    "tc.head()"
   ]
  },
  {
   "cell_type": "code",
   "execution_count": 25,
   "id": "reverse-trunk",
   "metadata": {
    "execution": {
     "iopub.execute_input": "2021-04-11T20:04:14.632313Z",
     "iopub.status.busy": "2021-04-11T20:04:14.629069Z",
     "iopub.status.idle": "2021-04-11T20:04:14.637083Z",
     "shell.execute_reply": "2021-04-11T20:04:14.637599Z"
    },
    "papermill": {
     "duration": 0.170779,
     "end_time": "2021-04-11T20:04:14.637812",
     "exception": false,
     "start_time": "2021-04-11T20:04:14.467033",
     "status": "completed"
    },
    "tags": []
   },
   "outputs": [
    {
     "data": {
      "text/plain": [
       "Theft from Vehicle                                        170889\n",
       "Mischief                                                   70157\n",
       "Break and Enter Residential/Other                          60856\n",
       "Other Theft                                                52160\n",
       "Theft of Vehicle                                           38351\n",
       "Break and Enter Commercial                                 33841\n",
       "Theft of Bicycle                                           25620\n",
       "Vehicle Collision or Pedestrian Struck (with Injury)       21887\n",
       "Vehicle Collision or Pedestrian Struck (with Fatality)       254\n",
       "Name: TYPE, dtype: int64"
      ]
     },
     "execution_count": 25,
     "metadata": {},
     "output_type": "execute_result"
    }
   ],
   "source": [
    "tcCount = tc['TYPE'].value_counts()\n",
    "tcCount"
   ]
  },
  {
   "cell_type": "code",
   "execution_count": 26,
   "id": "political-polymer",
   "metadata": {
    "execution": {
     "iopub.execute_input": "2021-04-11T20:04:14.749809Z",
     "iopub.status.busy": "2021-04-11T20:04:14.748939Z",
     "iopub.status.idle": "2021-04-11T20:04:14.935377Z",
     "shell.execute_reply": "2021-04-11T20:04:14.934801Z"
    },
    "papermill": {
     "duration": 0.257041,
     "end_time": "2021-04-11T20:04:14.935553",
     "exception": false,
     "start_time": "2021-04-11T20:04:14.678512",
     "status": "completed"
    },
    "tags": []
   },
   "outputs": [
    {
     "data": {
      "image/png": "[encoded data removed]",
      "text/plain": [
       "<Figure size 432x288 with 1 Axes>"
      ]
     },
     "metadata": {
      "needs_background": "light"
     },
     "output_type": "display_data"
    }
   ],
   "source": [
    "plottc = tcCount.plot(kind = 'bar')"
   ]
  },
  {
   "cell_type": "markdown",
   "id": "extensive-planet",
   "metadata": {
    "papermill": {
     "duration": 0.041758,
     "end_time": "2021-04-11T20:04:15.019707",
     "exception": false,
     "start_time": "2021-04-11T20:04:14.977949",
     "status": "completed"
    },
    "tags": []
   },
   "source": [
    "Theft from Vehicle looks to be the most common crime in Vancouver."
   ]
  },
  {
   "cell_type": "markdown",
   "id": "inside-nicholas",
   "metadata": {
    "papermill": {
     "duration": 0.041332,
     "end_time": "2021-04-11T20:04:15.103318",
     "exception": false,
     "start_time": "2021-04-11T20:04:15.061986",
     "status": "completed"
    },
    "tags": []
   },
   "source": [
    "**Conclusion**"
   ]
  },
  {
   "cell_type": "markdown",
   "id": "boxed-nomination",
   "metadata": {
    "papermill": {
     "duration": 0.041756,
     "end_time": "2021-04-11T20:04:15.188396",
     "exception": false,
     "start_time": "2021-04-11T20:04:15.146640",
     "status": "completed"
    },
    "tags": []
   },
   "source": [
    "1. There are 24 neighbourhoods and Central Business district is the neighbourhood with the highest number of crimes.\n",
    "2. I've visualized the trend in the number of crimes across 2003 - 2017 and highlighted the spike in crimes between 2013-2016.\n",
    "3. Theft from Vehicles is the most common crime with a count of 170889."
   ]
  }
 ],
 "metadata": {
  "kernelspec": {
   "display_name": "Python 3",
   "language": "python",
   "name": "python3"
  },
  "language_info": {
   "codemirror_mode": {
    "name": "ipython",
    "version": 3
   },
   "file_extension": ".py",
   "mimetype": "text/x-python",
   "name": "python",
   "nbconvert_exporter": "python",
   "pygments_lexer": "ipython3",
   "version": "3.7.9"
  },
  "papermill": {
   "default_parameters": {},
   "duration": 106.639615,
   "end_time": "2021-04-11T20:04:16.143174",
   "environment_variables": {},
   "exception": null,
   "input_path": "__notebook__.ipynb",
   "output_path": "__notebook__.ipynb",
   "parameters": {},
   "start_time": "2021-04-11T20:02:29.503559",
   "version": "2.3.2"
  }
 },
 "nbformat": 4,
 "nbformat_minor": 5
}
